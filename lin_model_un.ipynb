{
 "cells": [
  {
   "cell_type": "markdown",
   "id": "04aeb4fb-5b6a-40d5-aa5e-94bffb6bfd9b",
   "metadata": {},
   "source": [
    "# import pandas as pd\n",
    "import numpy as np"
   ]
  },
  {
   "cell_type": "code",
   "execution_count": 63,
   "id": "d8597d83-6a60-43ad-a1e6-6460a4cc0bee",
   "metadata": {},
   "outputs": [],
   "source": [
    "df = pd.read_csv('ucs_data_A.csv')"
   ]
  },
  {
   "cell_type": "code",
   "execution_count": 64,
   "id": "986fe7b8-6bbe-452e-9fa4-e65ed2b92285",
   "metadata": {},
   "outputs": [
    {
     "data": {
      "text/html": [
       "<div>\n",
       "<style scoped>\n",
       "    .dataframe tbody tr th:only-of-type {\n",
       "        vertical-align: middle;\n",
       "    }\n",
       "\n",
       "    .dataframe tbody tr th {\n",
       "        vertical-align: top;\n",
       "    }\n",
       "\n",
       "    .dataframe thead th {\n",
       "        text-align: right;\n",
       "    }\n",
       "</style>\n",
       "<table border=\"1\" class=\"dataframe\">\n",
       "  <thead>\n",
       "    <tr style=\"text-align: right;\">\n",
       "      <th></th>\n",
       "      <th>Name of Satellite, Alternate Names</th>\n",
       "      <th>Current Official Name of Satellite</th>\n",
       "      <th>Country/Org of UN Registry</th>\n",
       "      <th>Country of Operator/Owner</th>\n",
       "      <th>Operator/Owner</th>\n",
       "      <th>Contractor</th>\n",
       "      <th>Country of Contractor</th>\n",
       "      <th>Launch Site</th>\n",
       "      <th>Launch Vehicle</th>\n",
       "      <th>COSPAR Number</th>\n",
       "      <th>...</th>\n",
       "      <th>Comments</th>\n",
       "      <th>Unnamed: 12</th>\n",
       "      <th>Source Used for Orbital Data</th>\n",
       "      <th>Source</th>\n",
       "      <th>Source.1</th>\n",
       "      <th>Source.2</th>\n",
       "      <th>Source.3</th>\n",
       "      <th>Source.4</th>\n",
       "      <th>Source.5</th>\n",
       "      <th>Source.6</th>\n",
       "    </tr>\n",
       "  </thead>\n",
       "  <tbody>\n",
       "    <tr>\n",
       "      <th>0</th>\n",
       "      <td>1HOPSAT-TD (1st-generation High Optical Perfor...</td>\n",
       "      <td>Lemur</td>\n",
       "      <td>NR (12/20)</td>\n",
       "      <td>USA</td>\n",
       "      <td>Hera Systems</td>\n",
       "      <td>Hera Systems</td>\n",
       "      <td>USA</td>\n",
       "      <td>Satish Dhawan Space Centre</td>\n",
       "      <td>PSLV</td>\n",
       "      <td>2019-089H</td>\n",
       "      <td>...</td>\n",
       "      <td>Pathfinder for planned earth observation const...</td>\n",
       "      <td>NaN</td>\n",
       "      <td>JMSatcat/3_20</td>\n",
       "      <td>https://spaceflightnow.com/2019/12/11/indias-5...</td>\n",
       "      <td>https://www.herasys.com/</td>\n",
       "      <td>NaN</td>\n",
       "      <td>NaN</td>\n",
       "      <td>NaN</td>\n",
       "      <td>NaN</td>\n",
       "      <td>NaN</td>\n",
       "    </tr>\n",
       "    <tr>\n",
       "      <th>1</th>\n",
       "      <td>Aalto-1</td>\n",
       "      <td>Aalto-1</td>\n",
       "      <td>Finland</td>\n",
       "      <td>Finland</td>\n",
       "      <td>Aalto University</td>\n",
       "      <td>Aalto University</td>\n",
       "      <td>Finland</td>\n",
       "      <td>Satish Dhawan Space Centre</td>\n",
       "      <td>PSLV</td>\n",
       "      <td>2017-036L</td>\n",
       "      <td>...</td>\n",
       "      <td>Technology development and education.</td>\n",
       "      <td>NaN</td>\n",
       "      <td>JMSatcat/10_17</td>\n",
       "      <td>https://directory.eoportal.org/web/eoportal/sa...</td>\n",
       "      <td>NaN</td>\n",
       "      <td>http://www.planet4589.org/space/log/satcat.txt</td>\n",
       "      <td>NaN</td>\n",
       "      <td>NaN</td>\n",
       "      <td>NaN</td>\n",
       "      <td>NaN</td>\n",
       "    </tr>\n",
       "    <tr>\n",
       "      <th>2</th>\n",
       "      <td>AAUSat-4</td>\n",
       "      <td>AAUSat-4</td>\n",
       "      <td>Denmark</td>\n",
       "      <td>Denmark</td>\n",
       "      <td>University of Aalborg</td>\n",
       "      <td>University of Aalborg</td>\n",
       "      <td>Denmark</td>\n",
       "      <td>Guiana Space Center</td>\n",
       "      <td>Soyuz-2.1a</td>\n",
       "      <td>2016-025E</td>\n",
       "      <td>...</td>\n",
       "      <td>Carries AIS system.</td>\n",
       "      <td>NaN</td>\n",
       "      <td>Space50</td>\n",
       "      <td>http://spaceflightnow.com/2016/04/26/soyuz-bla...</td>\n",
       "      <td>NaN</td>\n",
       "      <td>http://space50.org/objekt.php?mot=2016-025E&amp;ja...</td>\n",
       "      <td>NaN</td>\n",
       "      <td>NaN</td>\n",
       "      <td>NaN</td>\n",
       "      <td>NaN</td>\n",
       "    </tr>\n",
       "    <tr>\n",
       "      <th>3</th>\n",
       "      <td>ABS-2 (Koreasat-8, ST-3)</td>\n",
       "      <td>ABS-2</td>\n",
       "      <td>NR</td>\n",
       "      <td>Multinational</td>\n",
       "      <td>Asia Broadcast Satellite Ltd.</td>\n",
       "      <td>Space Systems/Loral</td>\n",
       "      <td>USA</td>\n",
       "      <td>Guiana Space Center</td>\n",
       "      <td>Ariane 5 ECA</td>\n",
       "      <td>2014-006A</td>\n",
       "      <td>...</td>\n",
       "      <td>32 C-band, 51 Ku-band, and 6 Ka-band transpond...</td>\n",
       "      <td>NaN</td>\n",
       "      <td>ZARYA</td>\n",
       "      <td>http://www.absatellite.net/satellite-fleet/?sa...</td>\n",
       "      <td>NaN</td>\n",
       "      <td>http://www.zarya.info/Diaries/Launches/Launche...</td>\n",
       "      <td>http://www.absatellite.net/2010/10/13/asia-bro...</td>\n",
       "      <td>http://www.spacenews.com/article/satellite-tel...</td>\n",
       "      <td>NaN</td>\n",
       "      <td>NaN</td>\n",
       "    </tr>\n",
       "    <tr>\n",
       "      <th>4</th>\n",
       "      <td>ABS-2A</td>\n",
       "      <td>ABS-2A</td>\n",
       "      <td>NR</td>\n",
       "      <td>Multinational</td>\n",
       "      <td>Asia Broadcast Satellite Ltd.</td>\n",
       "      <td>Boeing Satellite Systems</td>\n",
       "      <td>USA</td>\n",
       "      <td>Cape Canaveral</td>\n",
       "      <td>Falcon 9</td>\n",
       "      <td>2016-038A</td>\n",
       "      <td>...</td>\n",
       "      <td>NaN</td>\n",
       "      <td>NaN</td>\n",
       "      <td>Estimated</td>\n",
       "      <td>NaN</td>\n",
       "      <td>NaN</td>\n",
       "      <td>NaN</td>\n",
       "      <td>NaN</td>\n",
       "      <td>NaN</td>\n",
       "      <td>NaN</td>\n",
       "      <td>NaN</td>\n",
       "    </tr>\n",
       "  </tbody>\n",
       "</table>\n",
       "<p>5 rows × 21 columns</p>\n",
       "</div>"
      ],
      "text/plain": [
       "                  Name of Satellite, Alternate Names  \\\n",
       "0  1HOPSAT-TD (1st-generation High Optical Perfor...   \n",
       "1                                            Aalto-1   \n",
       "2                                           AAUSat-4   \n",
       "3                           ABS-2 (Koreasat-8, ST-3)   \n",
       "4                                             ABS-2A   \n",
       "\n",
       "  Current Official Name of Satellite Country/Org of UN Registry  \\\n",
       "0                              Lemur                 NR (12/20)   \n",
       "1                            Aalto-1                    Finland   \n",
       "2                           AAUSat-4                    Denmark   \n",
       "3                              ABS-2                         NR   \n",
       "4                             ABS-2A                         NR   \n",
       "\n",
       "  Country of Operator/Owner                 Operator/Owner  \\\n",
       "0                       USA                   Hera Systems   \n",
       "1                   Finland               Aalto University   \n",
       "2                   Denmark          University of Aalborg   \n",
       "3             Multinational  Asia Broadcast Satellite Ltd.   \n",
       "4             Multinational  Asia Broadcast Satellite Ltd.   \n",
       "\n",
       "                 Contractor Country of Contractor                 Launch Site  \\\n",
       "0              Hera Systems                   USA  Satish Dhawan Space Centre   \n",
       "1          Aalto University               Finland  Satish Dhawan Space Centre   \n",
       "2     University of Aalborg               Denmark         Guiana Space Center   \n",
       "3       Space Systems/Loral                   USA         Guiana Space Center   \n",
       "4  Boeing Satellite Systems                   USA              Cape Canaveral   \n",
       "\n",
       "  Launch Vehicle COSPAR Number  ...  \\\n",
       "0           PSLV     2019-089H  ...   \n",
       "1           PSLV     2017-036L  ...   \n",
       "2     Soyuz-2.1a     2016-025E  ...   \n",
       "3   Ariane 5 ECA     2014-006A  ...   \n",
       "4       Falcon 9     2016-038A  ...   \n",
       "\n",
       "                                            Comments Unnamed: 12  \\\n",
       "0  Pathfinder for planned earth observation const...         NaN   \n",
       "1              Technology development and education.         NaN   \n",
       "2                                Carries AIS system.         NaN   \n",
       "3  32 C-band, 51 Ku-band, and 6 Ka-band transpond...         NaN   \n",
       "4                                                NaN         NaN   \n",
       "\n",
       "  Source Used for Orbital Data  \\\n",
       "0                JMSatcat/3_20   \n",
       "1               JMSatcat/10_17   \n",
       "2                      Space50   \n",
       "3                        ZARYA   \n",
       "4                    Estimated   \n",
       "\n",
       "                                              Source  \\\n",
       "0  https://spaceflightnow.com/2019/12/11/indias-5...   \n",
       "1  https://directory.eoportal.org/web/eoportal/sa...   \n",
       "2  http://spaceflightnow.com/2016/04/26/soyuz-bla...   \n",
       "3  http://www.absatellite.net/satellite-fleet/?sa...   \n",
       "4                                                NaN   \n",
       "\n",
       "                   Source.1  \\\n",
       "0  https://www.herasys.com/   \n",
       "1                       NaN   \n",
       "2                       NaN   \n",
       "3                       NaN   \n",
       "4                       NaN   \n",
       "\n",
       "                                            Source.2  \\\n",
       "0                                                NaN   \n",
       "1     http://www.planet4589.org/space/log/satcat.txt   \n",
       "2  http://space50.org/objekt.php?mot=2016-025E&ja...   \n",
       "3  http://www.zarya.info/Diaries/Launches/Launche...   \n",
       "4                                                NaN   \n",
       "\n",
       "                                            Source.3  \\\n",
       "0                                                NaN   \n",
       "1                                                NaN   \n",
       "2                                                NaN   \n",
       "3  http://www.absatellite.net/2010/10/13/asia-bro...   \n",
       "4                                                NaN   \n",
       "\n",
       "                                            Source.4 Source.5 Source.6  \n",
       "0                                                NaN      NaN      NaN  \n",
       "1                                                NaN      NaN      NaN  \n",
       "2                                                NaN      NaN      NaN  \n",
       "3  http://www.spacenews.com/article/satellite-tel...      NaN      NaN  \n",
       "4                                                NaN      NaN      NaN  \n",
       "\n",
       "[5 rows x 21 columns]"
      ]
     },
     "execution_count": 64,
     "metadata": {},
     "output_type": "execute_result"
    }
   ],
   "source": [
    "df.head()"
   ]
  },
  {
   "cell_type": "code",
   "execution_count": 65,
   "id": "f5df04b2-4c8d-420c-bcdb-46c3ebb0e160",
   "metadata": {},
   "outputs": [
    {
     "data": {
      "text/plain": [
       "count     4550\n",
       "unique      71\n",
       "top        USA\n",
       "freq      2493\n",
       "Name: Country/Org of UN Registry, dtype: object"
      ]
     },
     "execution_count": 65,
     "metadata": {},
     "output_type": "execute_result"
    }
   ],
   "source": [
    "df['Country/Org of UN Registry'].describe()"
   ]
  },
  {
   "cell_type": "code",
   "execution_count": 66,
   "id": "d7b75095-670a-4c33-b7a2-4c86d8f85383",
   "metadata": {},
   "outputs": [
    {
     "data": {
      "text/plain": [
       "array(['NR (12/20)', 'Finland', 'Denmark', 'NR', 'USA', 'ESA', 'France',\n",
       "       'Lithuania', 'NR (5/21)', 'Norway', 'Spain', 'Brazil', 'Algeria',\n",
       "       'United Kingdom', 'Russia', 'Canada', 'China', 'NR (7/20)',\n",
       "       'Argentina', 'NR (9/21)', 'Japan', 'Luxembourg', 'Azerbaijan',\n",
       "       'Mexico', 'Germany', 'Belarus', 'Indonesia', 'Australia', 'India',\n",
       "       'South Korea', 'Belgium', 'Italy', 'United Arab Emirates', 'NR ',\n",
       "       'Ethiopia', 'Colombia', 'Inda', 'Greece', 'Kazakhstan', 'Laos',\n",
       "       'Czech Republic', 'Malaysia', 'EUMETSAT', 'EUMETSAT/ESA',\n",
       "       'Nigeria', 'Uruguay', 'Sweden', 'Unit', 'Pakistan', 'New Zealand',\n",
       "       'Peru', 'NR (4/21)', 'NR (4/28)', 'CR (5/21)', 'OR (5/21)',\n",
       "       'Turkey', 'Saudi Arabia', 'Chile', 'BR (3/20)', 'Thailand',\n",
       "       'NR  (12/20)', 'Egypt', 'Iraq', 'Bolivia', 'Austria',\n",
       "       'Technologies', 'Israel', 'University', 'Venezuela',\n",
       "       'South Africa', 'China/Sri Lanka'], dtype=object)"
      ]
     },
     "execution_count": 66,
     "metadata": {},
     "output_type": "execute_result"
    }
   ],
   "source": [
    "df['Country/Org of UN Registry'].unique()"
   ]
  },
  {
   "cell_type": "code",
   "execution_count": 67,
   "id": "ecad6e11-4b6c-4a74-912b-ebed53013afa",
   "metadata": {
    "scrolled": true,
    "tags": []
   },
   "outputs": [],
   "source": [
    "# Make \"NR (Date)\" entries into \"NR\"\n",
    "\n",
    "for i,country in enumerate(df['Country/Org of UN Registry']):\n",
    "    #print(type(country)) \n",
    "    #print(i)\n",
    "    #print(country)\n",
    "    if country[0:2] == \"NR\":\n",
    "        \n",
    "        df.at[i,'Country/Org of UN Registry'] = \"NR\"\n",
    "        "
   ]
  },
  {
   "cell_type": "code",
   "execution_count": 68,
   "id": "aaf6f476-157a-49ab-a453-a55857dbb770",
   "metadata": {},
   "outputs": [],
   "source": [
    "#create new columns for multiple country collaborative launches\n",
    "\n",
    "df['Country of Operator/Owner 1'] = \"N/A\"\n",
    "df['Country of Operator/Owner 2'] = \"N/A\"\n",
    "df['Country of Operator/Owner 3'] = \"N/A\"\n",
    "df['Country of Operator/Owner 4'] = \"N/A\"\n",
    "df['Country of Operator/Owner 5'] = \"N/A\"\n",
    "\n",
    "\n",
    "#\n",
    "df['Country of Contractor 1'] = \"N/A\"\n",
    "df['Country of Contractor 2'] = \"N/A\"\n",
    "df['Country of Contractor 3'] = \"N/A\"\n",
    "df['Country of Contractor 4'] = \"N/A\"\n",
    "\n",
    "\n"
   ]
  },
  {
   "cell_type": "code",
   "execution_count": 69,
   "id": "cf26f4c6-2fbb-4e9c-babc-4cde07aeda26",
   "metadata": {},
   "outputs": [],
   "source": [
    "# Break up countries with multiple slashes\n",
    "\n",
    "for i,countries in enumerate(df['Country of Operator/Owner']):\n",
    "    if ('/') in countries:\n",
    "        list_operator_countries = countries.split('/')\n",
    "        for j,country in enumerate(list_operator_countries):\n",
    "            column_num = j+1\n",
    "            column_name = 'Country of Operator/Owner ' + str(column_num)\n",
    "            df.at[i,column_name] = country\n",
    "            \n",
    "    "
   ]
  },
  {
   "cell_type": "code",
   "execution_count": 72,
   "id": "3418f231-ac17-459d-9590-7a6496f9c4f9",
   "metadata": {},
   "outputs": [],
   "source": [
    "from sklearn.model_selection import train_test_split\n",
    "train, test = train_test_split(df, test_size=0.2)"
   ]
  },
  {
   "cell_type": "code",
   "execution_count": 147,
   "id": "963addc6-b125-473e-b1fc-bc2040acc4da",
   "metadata": {},
   "outputs": [],
   "source": [
    "X_train = train[['Country of Operator/Owner','Country of Operator/Owner 1','Country of Operator/Owner 2',\\\n",
    "                 'Country of Operator/Owner 3','Country of Operator/Owner 4','Country of Operator/Owner 5',\\\n",
    "                'Country of Contractor','Country of Contractor 1','Country of Contractor 2',\\\n",
    "                'Country of Contractor 3','Country of Contractor 4']]\n",
    "\n",
    "X_test = test[['Country of Operator/Owner','Country of Operator/Owner 1','Country of Operator/Owner 2',\\\n",
    "                 'Country of Operator/Owner 3','Country of Operator/Owner 4','Country of Operator/Owner 5',\\\n",
    "                'Country of Contractor','Country of Contractor 1','Country of Contractor 2',\\\n",
    "                'Country of Contractor 3','Country of Contractor 4']]\n",
    "\n",
    "y_train = train[['Country/Org of UN Registry']]\n",
    "\n",
    "y_test = test[['Country/Org of UN Registry']]\n",
    "\n"
   ]
  },
  {
   "cell_type": "code",
   "execution_count": 152,
   "id": "70a8801c-2094-4644-b78a-81794856dc92",
   "metadata": {},
   "outputs": [],
   "source": [
    "y_test_labels = list(test['Country/Org of UN Registry'].unique())"
   ]
  },
  {
   "cell_type": "code",
   "execution_count": 153,
   "id": "120a6c87-bed0-4c63-8095-66530424b9e2",
   "metadata": {},
   "outputs": [
    {
     "data": {
      "text/plain": [
       "['NR',\n",
       " 'USA',\n",
       " 'China',\n",
       " 'Brazil',\n",
       " 'United Kingdom',\n",
       " 'Luxembourg',\n",
       " 'Uruguay',\n",
       " 'India',\n",
       " 'Russia',\n",
       " 'South Korea',\n",
       " 'France',\n",
       " 'Saudi Arabia',\n",
       " 'Argentina',\n",
       " 'Finland',\n",
       " 'Lithuania',\n",
       " 'ESA',\n",
       " 'Australia',\n",
       " 'Sweden',\n",
       " 'Japan',\n",
       " 'Norway',\n",
       " 'Pakistan',\n",
       " 'EUMETSAT/ESA',\n",
       " 'Nigeria',\n",
       " 'OR (5/21)',\n",
       " 'United Arab Emirates',\n",
       " 'Mexico',\n",
       " 'Spain',\n",
       " 'Turkey',\n",
       " 'Indonesia',\n",
       " 'Canada',\n",
       " 'Germany',\n",
       " 'Italy',\n",
       " 'Austria',\n",
       " 'BR (3/20)']"
      ]
     },
     "execution_count": 153,
     "metadata": {},
     "output_type": "execute_result"
    }
   ],
   "source": [
    "y_test_labels"
   ]
  },
  {
   "cell_type": "code",
   "execution_count": 101,
   "id": "4a645994-fd5e-40d9-b841-6f1ebe296fea",
   "metadata": {},
   "outputs": [
    {
     "data": {
      "text/plain": [
       "OneHotEncoder(handle_unknown='ignore')"
      ]
     },
     "execution_count": 101,
     "metadata": {},
     "output_type": "execute_result"
    }
   ],
   "source": [
    "from sklearn.preprocessing import OneHotEncoder\n",
    "encoder = OneHotEncoder(handle_unknown=\"ignore\")\n",
    "encoder.fit(X_train)"
   ]
  },
  {
   "cell_type": "code",
   "execution_count": 102,
   "id": "36d14447-0e73-4ffa-8821-65e10b84a74e",
   "metadata": {},
   "outputs": [],
   "source": [
    "X_train = encoder.transform(X_train)\n",
    "X_test = encoder.transform(X_test)"
   ]
  },
  {
   "cell_type": "code",
   "execution_count": 103,
   "id": "78e7e9b5-9a59-409b-97ae-1f834f180fe5",
   "metadata": {},
   "outputs": [],
   "source": [
    "#encoder.fit(y_train)\n"
   ]
  },
  {
   "cell_type": "code",
   "execution_count": 104,
   "id": "5133cd43-c36c-4752-85f4-5dd316807adf",
   "metadata": {},
   "outputs": [],
   "source": [
    "#y_train = encoder.transform(y_train)\n",
    "#y_test = encoder.transform(y_test)"
   ]
  },
  {
   "cell_type": "code",
   "execution_count": 105,
   "id": "60d791b8-459a-4fb6-bbf6-5cfd125fcc9c",
   "metadata": {},
   "outputs": [
    {
     "data": {
      "text/plain": [
       "(3640, 1)"
      ]
     },
     "execution_count": 105,
     "metadata": {},
     "output_type": "execute_result"
    }
   ],
   "source": [
    "np.shape(y_train)"
   ]
  },
  {
   "cell_type": "code",
   "execution_count": 114,
   "id": "bd7b48fc-10c7-4d5a-a233-6ab1fcf72480",
   "metadata": {},
   "outputs": [],
   "source": [
    "y_train = np.array(y_train).squeeze()\n",
    "y_test = np.array(y_test).squeeze()"
   ]
  },
  {
   "cell_type": "code",
   "execution_count": 121,
   "id": "4825a7b2-40dc-4578-834b-d410a087b210",
   "metadata": {},
   "outputs": [],
   "source": [
    "from sklearn.linear_model import LogisticRegression\n",
    "lm = LogisticRegression(max_iter = 1000)\n"
   ]
  },
  {
   "cell_type": "code",
   "execution_count": 122,
   "id": "6a11fc35-7416-4f39-a64c-9bfdb63ec2a5",
   "metadata": {},
   "outputs": [
    {
     "data": {
      "text/plain": [
       "LogisticRegression(max_iter=1000)"
      ]
     },
     "execution_count": 122,
     "metadata": {},
     "output_type": "execute_result"
    }
   ],
   "source": [
    "lm.fit(X_train, y_train)\n"
   ]
  },
  {
   "cell_type": "code",
   "execution_count": 126,
   "id": "18955660-2fea-4d9a-82a1-1257e40d7bf0",
   "metadata": {},
   "outputs": [
    {
     "data": {
      "text/plain": [
       "0.810989010989011"
      ]
     },
     "execution_count": 126,
     "metadata": {},
     "output_type": "execute_result"
    }
   ],
   "source": [
    "lm.score(X_test, y_test)"
   ]
  },
  {
   "cell_type": "code",
   "execution_count": 129,
   "id": "560ff259-536d-417c-853f-1b3668b7d5a9",
   "metadata": {},
   "outputs": [],
   "source": [
    "from sklearn import svm"
   ]
  },
  {
   "cell_type": "code",
   "execution_count": 133,
   "id": "b44908cf-8a4c-4675-b1f3-f40922dc1a4e",
   "metadata": {},
   "outputs": [],
   "source": [
    "clf = svm.LinearSVC()\n"
   ]
  },
  {
   "cell_type": "code",
   "execution_count": 134,
   "id": "ff2a9c92-47d6-4201-830c-3f46abc0763a",
   "metadata": {},
   "outputs": [
    {
     "data": {
      "text/plain": [
       "LinearSVC()"
      ]
     },
     "execution_count": 134,
     "metadata": {},
     "output_type": "execute_result"
    }
   ],
   "source": [
    "clf.fit(X_train, y_train)"
   ]
  },
  {
   "cell_type": "code",
   "execution_count": 135,
   "id": "7aa603ac-f0cd-4d8b-bf23-c3d52733392d",
   "metadata": {},
   "outputs": [
    {
     "data": {
      "text/plain": [
       "0.8241758241758241"
      ]
     },
     "execution_count": 135,
     "metadata": {},
     "output_type": "execute_result"
    }
   ],
   "source": [
    "clf.score(X_test, y_test)"
   ]
  },
  {
   "cell_type": "code",
   "execution_count": 136,
   "id": "b508b330-83e2-4afe-a85c-0c023ffc7cca",
   "metadata": {},
   "outputs": [],
   "source": [
    "predictions = clf.predict(X_test)"
   ]
  },
  {
   "cell_type": "code",
   "execution_count": 145,
   "id": "4cb6fdd7-3053-4f72-8983-267b281b498b",
   "metadata": {},
   "outputs": [
    {
     "data": {
      "text/plain": [
       "array(['China', 'USA', 'USA', 'USA', 'USA', 'USA', 'China',\n",
       "       'United Arab Emirates', 'United Kingdom', 'USA', 'USA', 'USA',\n",
       "       'China', 'USA', 'China', 'China', 'USA', 'China', 'USA', 'USA',\n",
       "       'NR', 'United Kingdom', 'USA', 'USA', 'USA', 'USA', 'NR', 'NR',\n",
       "       'USA', 'USA', 'USA', 'NR', 'China', 'USA', 'USA', 'Uruguay', 'USA',\n",
       "       'China', 'USA', 'China', 'USA', 'United Kingdom', 'China', 'USA',\n",
       "       'USA', 'Germany', 'USA', 'USA', 'USA', 'NR', 'USA', 'USA', 'USA',\n",
       "       'China', 'USA', 'USA', 'USA', 'NR', 'USA', 'China', 'India', 'USA',\n",
       "       'USA', 'NR', 'Russia', 'China', 'NR', 'China', 'USA', 'USA',\n",
       "       'South Korea', 'USA', 'USA', 'NR', 'USA', 'USA', 'NR', 'Russia',\n",
       "       'USA', 'USA', 'USA', 'USA', 'USA', 'USA', 'China', 'China',\n",
       "       'France', 'Saudi Arabia', 'China', 'China', 'Uruguay', 'NR', 'NR',\n",
       "       'USA', 'NR', 'USA', 'China', 'USA', 'NR', 'USA', 'NR', 'China',\n",
       "       'USA', 'USA', 'Finland', 'NR', 'India', 'NR', 'ESA', 'Russia',\n",
       "       'USA', 'USA', 'South Korea', 'USA', 'France', 'USA', 'USA',\n",
       "       'Russia', 'USA', 'USA', 'USA', 'USA', 'USA', 'USA', 'USA', 'NR',\n",
       "       'USA', 'USA', 'South Korea', 'France', 'USA', 'USA', 'Australia',\n",
       "       'United Kingdom', 'USA', 'USA', 'USA', 'USA', 'USA', 'USA', 'NR',\n",
       "       'USA', 'USA', 'United Kingdom', 'China', 'France', 'USA', 'USA',\n",
       "       'USA', 'USA', 'USA', 'USA', 'USA', 'China', 'Spain', 'USA',\n",
       "       'Sweden', 'China', 'USA', 'USA', 'France', 'United Kingdom', 'USA',\n",
       "       'South Korea', 'EUMETSAT', 'USA', 'USA', 'USA', 'China', 'USA',\n",
       "       'USA', 'USA', 'USA', 'USA', 'Japan', 'USA', 'United Kingdom',\n",
       "       'China', 'USA', 'USA', 'USA', 'USA', 'USA', 'USA', 'USA', 'USA',\n",
       "       'Uruguay', 'Japan', 'USA', 'USA', 'United Kingdom', 'Russia',\n",
       "       'USA', 'USA', 'USA', 'NR', 'Japan', 'USA', 'USA', 'USA', 'USA',\n",
       "       'France', 'China', 'USA', 'India', 'USA', 'USA', 'USA', 'Japan',\n",
       "       'NR', 'USA', 'India', 'USA', 'USA', 'NR', 'Uruguay', 'USA',\n",
       "       'China', 'Norway', 'NR', 'USA', 'United Kingdom', 'USA', 'China',\n",
       "       'Russia', 'NR', 'Russia', 'China', 'USA', 'Russia', 'Pakistan',\n",
       "       'USA', 'NR', 'China', 'USA', 'USA', 'USA', 'NR', 'USA', 'USA',\n",
       "       'USA', 'USA', 'USA', 'China', 'USA', 'China', 'USA', 'NR', 'USA',\n",
       "       'China', 'Luxembourg', 'USA', 'India', 'Russia', 'USA', 'USA',\n",
       "       'China', 'USA', 'USA', 'NR', 'USA', 'USA', 'USA', 'China', 'NR',\n",
       "       'USA', 'Japan', 'Luxembourg', 'USA', 'Japan', 'USA',\n",
       "       'United Kingdom', 'USA', 'USA', 'Russia', 'USA', 'USA', 'USA',\n",
       "       'United Kingdom', 'USA', 'USA', 'USA', 'USA', 'France', 'USA',\n",
       "       'USA', 'USA', 'USA', 'NR', 'USA', 'Nigeria', 'USA', 'USA', 'USA',\n",
       "       'USA', 'USA', 'India', 'Japan', 'USA', 'USA', 'USA', 'USA',\n",
       "       'China', 'China', 'USA', 'NR', 'NR', 'USA', 'USA', 'USA',\n",
       "       'United Kingdom', 'NR', 'USA', 'USA', 'USA', 'NR', 'USA', 'USA',\n",
       "       'USA', 'USA', 'NR', 'USA', 'USA', 'USA', 'USA', 'China', 'USA',\n",
       "       'USA', 'USA', 'USA', 'ESA', 'NR', 'NR', 'USA', 'USA', 'Germany',\n",
       "       'United Arab Emirates', 'NR', 'USA', 'United Kingdom', 'USA',\n",
       "       'USA', 'NR', 'NR', 'United Kingdom', 'China', 'United Kingdom',\n",
       "       'USA', 'USA', 'USA', 'USA', 'USA', 'USA', 'USA', 'USA',\n",
       "       'United Kingdom', 'India', 'Uruguay', 'USA', 'USA', 'USA', 'USA',\n",
       "       'Russia', 'USA', 'USA', 'USA', 'China', 'USA', 'USA', 'Japan',\n",
       "       'USA', 'USA', 'USA', 'USA', 'USA', 'China', 'USA', 'USA', 'USA',\n",
       "       'USA', 'China', 'USA', 'USA', 'NR', 'NR', 'NR', 'South Korea',\n",
       "       'India', 'USA', 'Russia', 'India', 'USA', 'ESA', 'USA', 'USA',\n",
       "       'USA', 'China', 'USA', 'USA', 'USA', 'USA', 'Russia', 'India',\n",
       "       'USA', 'USA', 'USA', 'USA', 'USA', 'NR', 'USA', 'Russia', 'USA',\n",
       "       'Japan', 'USA', 'NR', 'China', 'NR', 'USA', 'USA', 'USA', 'USA',\n",
       "       'USA', 'China', 'France', 'China', 'China', 'NR', 'China',\n",
       "       'Russia', 'USA', 'NR', 'China', 'NR', 'USA', 'India', 'USA', 'NR',\n",
       "       'USA', 'NR', 'United Kingdom', 'USA', 'Spain', 'USA', 'USA', 'USA',\n",
       "       'NR', 'China', 'USA', 'USA', 'USA', 'Russia', 'USA', 'China',\n",
       "       'USA', 'NR', 'USA', 'USA', 'USA', 'USA', 'Spain', 'USA', 'USA',\n",
       "       'USA', 'USA', 'USA', 'South Korea', 'USA', 'France', 'NR', 'USA',\n",
       "       'USA', 'China', 'USA', 'NR', 'France', 'USA', 'Japan', 'China',\n",
       "       'USA', 'Russia', 'Luxembourg', 'USA', 'USA', 'France', 'USA',\n",
       "       'China', 'USA', 'China', 'NR', 'USA', 'NR', 'USA', 'USA', 'Japan',\n",
       "       'USA', 'ESA', 'Russia', 'China', 'USA', 'United Kingdom', 'China',\n",
       "       'NR', 'USA', 'Russia', 'USA', 'USA', 'China', 'USA', 'USA', 'NR',\n",
       "       'USA', 'NR', 'USA', 'NR', 'NR', 'China', 'USA', 'USA', 'USA', 'NR',\n",
       "       'USA', 'USA', 'USA', 'NR', 'France', 'USA', 'USA', 'USA', 'USA',\n",
       "       'China', 'Finland', 'USA', 'USA', 'USA', 'USA', 'USA', 'Russia',\n",
       "       'Indonesia', 'NR', 'USA', 'USA', 'USA', 'USA', 'USA', 'NR',\n",
       "       'Uruguay', 'USA', 'USA', 'USA', 'United Arab Emirates', 'USA',\n",
       "       'USA', 'USA', 'USA', 'USA', 'USA', 'France', 'China', 'USA',\n",
       "       'India', 'NR', 'NR', 'China', 'USA', 'USA', 'USA', 'USA',\n",
       "       'United Kingdom', 'China', 'USA', 'USA', 'USA', 'France', 'NR',\n",
       "       'USA', 'USA', 'USA', 'USA', 'USA', 'USA', 'NR', 'Indonesia', 'USA',\n",
       "       'USA', 'USA', 'USA', 'USA', 'Japan', 'USA', 'USA', 'NR', 'USA',\n",
       "       'USA', 'NR', 'USA', 'NR', 'USA', 'India', 'India', 'USA', 'USA',\n",
       "       'USA', 'NR', 'France', 'Japan', 'China', 'Germany', 'Saudi Arabia',\n",
       "       'United Kingdom', 'Russia', 'United Arab Emirates', 'China',\n",
       "       'China', 'NR', 'USA', 'USA', 'Germany', 'China', 'Japan', 'France',\n",
       "       'USA', 'China', 'NR', 'NR', 'United Kingdom', 'USA', 'USA', 'USA',\n",
       "       'USA', 'USA', 'USA', 'USA', 'China', 'NR', 'USA', 'USA', 'Germany',\n",
       "       'USA', 'China', 'USA', 'Japan', 'China', 'USA', 'USA', 'USA',\n",
       "       'France', 'Uruguay', 'USA', 'USA', 'China', 'Russia', 'NR', 'USA',\n",
       "       'China', 'USA', 'USA', 'USA', 'USA', 'USA', 'USA', 'USA', 'USA',\n",
       "       'USA', 'USA', 'USA', 'USA', 'United Kingdom', 'USA', 'USA', 'USA',\n",
       "       'USA', 'Russia', 'USA', 'USA', 'South Korea', 'USA', 'China',\n",
       "       'India', 'USA', 'Russia', 'Japan', 'USA', 'China', 'China',\n",
       "       'France', 'Canada', 'USA', 'Australia', 'USA', 'USA', 'USA',\n",
       "       'China', 'Japan', 'USA', 'USA', 'USA', 'USA', 'Japan',\n",
       "       'United Kingdom', 'India', 'USA', 'NR', 'Russia', 'USA', 'Japan',\n",
       "       'USA', 'USA', 'Japan', 'USA', 'India', 'United Kingdom', 'USA',\n",
       "       'USA', 'USA', 'USA', 'NR', 'United Kingdom', 'USA', 'USA', 'NR',\n",
       "       'United Kingdom', 'USA', 'USA', 'NR', 'USA', 'USA', 'USA', 'China',\n",
       "       'NR', 'USA', 'USA', 'USA', 'USA', 'USA', 'NR', 'Italy', 'USA',\n",
       "       'USA', 'USA', 'USA', 'Russia', 'USA', 'NR', 'USA', 'USA', 'USA',\n",
       "       'USA', 'USA', 'China', 'USA', 'France', 'China', 'USA', 'USA',\n",
       "       'NR', 'USA', 'NR', 'USA', 'Finland', 'USA', 'NR', 'USA', 'China',\n",
       "       'NR', 'USA', 'USA', 'USA', 'USA', 'Germany',\n",
       "       'United Arab Emirates', 'USA', 'USA', 'USA', 'USA', 'Russia',\n",
       "       'USA', 'USA', 'USA', 'USA', 'USA', 'USA', 'NR', 'United Kingdom',\n",
       "       'USA', 'USA', 'USA', 'USA', 'USA', 'USA', 'China', 'USA',\n",
       "       'Saudi Arabia', 'China', 'USA', 'USA', 'USA', 'France', 'USA',\n",
       "       'China', 'USA', 'USA', 'USA', 'NR', 'Japan', 'USA', 'Russia',\n",
       "       'USA', 'USA', 'United Kingdom', 'USA', 'USA', 'Spain', 'USA',\n",
       "       'China', 'NR', 'NR', 'USA', 'USA', 'China', 'United Kingdom',\n",
       "       'USA', 'China', 'Saudi Arabia', 'USA', 'USA', 'USA', 'USA',\n",
       "       'China', 'USA', 'NR', 'NR', 'USA', 'Australia', 'USA', 'Japan',\n",
       "       'USA', 'United Kingdom', 'NR', 'USA', 'China', 'USA', 'NR', 'USA',\n",
       "       'USA', 'NR', 'USA', 'France', 'USA', 'China', 'USA', 'USA', 'USA',\n",
       "       'NR', 'USA', 'USA', 'France', 'EUMETSAT', 'China', 'India', 'USA',\n",
       "       'USA', 'USA', 'USA', 'USA', 'USA', 'USA', 'NR', 'USA', 'China',\n",
       "       'USA', 'USA', 'Germany', 'USA', 'NR', 'USA', 'USA', 'China',\n",
       "       'China', 'Canada', 'United Kingdom', 'USA', 'United Arab Emirates',\n",
       "       'China', 'USA', 'USA', 'USA', 'Japan', 'USA', 'USA', 'USA',\n",
       "       'China', 'USA', 'China', 'USA', 'France', 'USA', 'Germany', 'USA',\n",
       "       'USA', 'Japan', 'USA', 'NR', 'France', 'USA', 'ESA', 'USA', 'NR',\n",
       "       'USA', 'NR', 'USA'], dtype=object)"
      ]
     },
     "execution_count": 145,
     "metadata": {},
     "output_type": "execute_result"
    }
   ],
   "source": [
    "predictions"
   ]
  },
  {
   "cell_type": "code",
   "execution_count": 157,
   "id": "56244343-e80b-4139-a7b0-079065d7b0f4",
   "metadata": {},
   "outputs": [],
   "source": [
    "from sklearn.metrics import confusion_matrix"
   ]
  },
  {
   "cell_type": "code",
   "execution_count": 158,
   "id": "0ad19387-c382-4547-8077-46af4f9bf67a",
   "metadata": {},
   "outputs": [],
   "source": [
    "cm = confusion_matrix(y_test, predictions, labels = y_test_labels)"
   ]
  },
  {
   "cell_type": "code",
   "execution_count": 174,
   "id": "ae6413b8-68e0-431e-b5c7-5f1a1d89371a",
   "metadata": {},
   "outputs": [
    {
     "data": {
      "text/plain": [
       "34"
      ]
     },
     "execution_count": 174,
     "metadata": {},
     "output_type": "execute_result"
    }
   ],
   "source": [
    "len(y_test_labels)"
   ]
  },
  {
   "cell_type": "code",
   "execution_count": 175,
   "id": "e17c759b-2399-4fe2-b80b-dc3b7690322a",
   "metadata": {},
   "outputs": [
    {
     "data": {
      "text/plain": [
       "34"
      ]
     },
     "execution_count": 175,
     "metadata": {},
     "output_type": "execute_result"
    }
   ],
   "source": [
    "len(labels)"
   ]
  },
  {
   "cell_type": "code",
   "execution_count": 209,
   "id": "3ae13ee6-d331-4d57-9d3a-a66bda135700",
   "metadata": {},
   "outputs": [
    {
     "ename": "ValueError",
     "evalue": "The number of FixedLocator locations (17), usually from a call to set_ticks, does not match the number of ticklabels (34).",
     "output_type": "error",
     "traceback": [
      "\u001b[0;31m---------------------------------------------------------------------------\u001b[0m",
      "\u001b[0;31mValueError\u001b[0m                                Traceback (most recent call last)",
      "\u001b[0;32m<ipython-input-209-05ccc253e811>\u001b[0m in \u001b[0;36m<module>\u001b[0;34m\u001b[0m\n\u001b[1;32m     19\u001b[0m \u001b[0;31m# labels, title and ticks\u001b[0m\u001b[0;34m\u001b[0m\u001b[0;34m\u001b[0m\u001b[0;34m\u001b[0m\u001b[0m\n\u001b[1;32m     20\u001b[0m \u001b[0;31m#ax.set_title('Confusion Matrix');\u001b[0m\u001b[0;34m\u001b[0m\u001b[0;34m\u001b[0m\u001b[0;34m\u001b[0m\u001b[0m\n\u001b[0;32m---> 21\u001b[0;31m \u001b[0max\u001b[0m\u001b[0;34m.\u001b[0m\u001b[0mxaxis\u001b[0m\u001b[0;34m.\u001b[0m\u001b[0mset_ticklabels\u001b[0m\u001b[0;34m(\u001b[0m\u001b[0my_test_labels\u001b[0m\u001b[0;34m)\u001b[0m\u001b[0;34m;\u001b[0m \u001b[0max\u001b[0m\u001b[0;34m.\u001b[0m\u001b[0myaxis\u001b[0m\u001b[0;34m.\u001b[0m\u001b[0mset_ticklabels\u001b[0m\u001b[0;34m(\u001b[0m\u001b[0my_test_labels\u001b[0m\u001b[0;34m)\u001b[0m\u001b[0;34m;\u001b[0m\u001b[0;34m\u001b[0m\u001b[0;34m\u001b[0m\u001b[0m\n\u001b[0m\u001b[1;32m     22\u001b[0m \u001b[0;34m\u001b[0m\u001b[0m\n\u001b[1;32m     23\u001b[0m \u001b[0;34m\u001b[0m\u001b[0m\n",
      "\u001b[0;32m~/anaconda3/lib/python3.7/site-packages/matplotlib/axis.py\u001b[0m in \u001b[0;36mset_ticklabels\u001b[0;34m(self, ticklabels, minor, **kwargs)\u001b[0m\n\u001b[1;32m   1710\u001b[0m             \u001b[0;32mif\u001b[0m \u001b[0mlen\u001b[0m\u001b[0;34m(\u001b[0m\u001b[0mlocator\u001b[0m\u001b[0;34m.\u001b[0m\u001b[0mlocs\u001b[0m\u001b[0;34m)\u001b[0m \u001b[0;34m!=\u001b[0m \u001b[0mlen\u001b[0m\u001b[0;34m(\u001b[0m\u001b[0mticklabels\u001b[0m\u001b[0;34m)\u001b[0m \u001b[0;32mand\u001b[0m \u001b[0mlen\u001b[0m\u001b[0;34m(\u001b[0m\u001b[0mticklabels\u001b[0m\u001b[0;34m)\u001b[0m \u001b[0;34m!=\u001b[0m \u001b[0;36m0\u001b[0m\u001b[0;34m:\u001b[0m\u001b[0;34m\u001b[0m\u001b[0;34m\u001b[0m\u001b[0m\n\u001b[1;32m   1711\u001b[0m                 raise ValueError(\n\u001b[0;32m-> 1712\u001b[0;31m                     \u001b[0;34m\"The number of FixedLocator locations\"\u001b[0m\u001b[0;34m\u001b[0m\u001b[0;34m\u001b[0m\u001b[0m\n\u001b[0m\u001b[1;32m   1713\u001b[0m                     \u001b[0;34mf\" ({len(locator.locs)}), usually from a call to\"\u001b[0m\u001b[0;34m\u001b[0m\u001b[0;34m\u001b[0m\u001b[0m\n\u001b[1;32m   1714\u001b[0m                     \u001b[0;34m\" set_ticks, does not match\"\u001b[0m\u001b[0;34m\u001b[0m\u001b[0;34m\u001b[0m\u001b[0m\n",
      "\u001b[0;31mValueError\u001b[0m: The number of FixedLocator locations (17), usually from a call to set_ticks, does not match the number of ticklabels (34)."
     ]
    },
    {
     "data": {
      "image/png": "[encoded data removed]",
      "text/plain": [
       "<Figure size 432x288 with 2 Axes>"
      ]
     },
     "metadata": {
      "needs_background": "light"
     },
     "output_type": "display_data"
    },
    {
     "data": {
      "text/plain": [
       "<Figure size 1440x720 with 0 Axes>"
      ]
     },
     "metadata": {},
     "output_type": "display_data"
    }
   ],
   "source": [
    "labels = y_test_labels\n",
    "\n",
    "import seaborn as sns\n",
    "import matplotlib.pyplot as plt     \n",
    "\n",
    "ax= plt.subplot()\n",
    "\n",
    "\n",
    "plt.figure(figsize=(20,10))\n",
    "\n",
    "\n",
    "hm = sns.heatmap(cm, annot=True, fmt='g', ax=ax);  #annot=True to annotate cells, ftm='g' to disable scientific notation\n",
    "ax.set_xlabel('Predicted labels');ax.set_ylabel('True labels'); \n",
    "\n",
    "\n",
    "fig = hm.get_figure()\n",
    "\n",
    "fig.savefig('cm.png', dpi = 300)\n",
    "# labels, title and ticks\n",
    "#ax.set_title('Confusion Matrix'); \n",
    "#ax.xaxis.set_ticklabels(y_test_labels); ax.yaxis.set_ticklabels(y_test_labels);\n",
    "\n",
    "\n"
   ]
  },
  {
   "cell_type": "code",
   "execution_count": null,
   "id": "73a52b05-9377-4470-8e19-114af359bef6",
   "metadata": {},
   "outputs": [],
   "source": []
  }
 ],
 "metadata": {
  "kernelspec": {
   "display_name": "Python 3 (ipykernel)",
   "language": "python",
   "name": "python3"
  },
  "language_info": {
   "codemirror_mode": {
    "name": "ipython",
    "version": 3
   },
   "file_extension": ".py",
   "mimetype": "text/x-python",
   "name": "python",
   "nbconvert_exporter": "python",
   "pygments_lexer": "ipython3",
   "version": "3.7.11"
  }
 },
 "nbformat": 4,
 "nbformat_minor": 5
}
