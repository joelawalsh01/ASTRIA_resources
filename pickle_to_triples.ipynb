{
 "cells": [
  {
   "cell_type": "code",
   "execution_count": 1,
   "id": "bc8764a6-9d78-406d-86a4-a62e3a2ca7b4",
   "metadata": {},
   "outputs": [],
   "source": [
    "import pickle\n",
    "import pandas as pd\n"
   ]
  },
  {
   "cell_type": "code",
   "execution_count": 2,
   "id": "c6cc1898-2c93-469b-85c3-246e95505ea8",
   "metadata": {},
   "outputs": [],
   "source": [
    "df = pd.read_pickle(\"ucs_pickle.p\")"
   ]
  },
  {
   "cell_type": "code",
   "execution_count": 3,
   "id": "5aa4bc34-88aa-4aeb-bad7-ee9f87f2388b",
   "metadata": {},
   "outputs": [],
   "source": [
    "def pd_to_triples(pickled_df_path):\n",
    "    \"\"\"\n",
    "    :param pickled: pickled pandas dataframe from the Union of Concerned Scientists datset\n",
    "    :return: List[tuple] , tuple is (object, relation, country)\n",
    "    \"\"\"\n",
    "    \n",
    "    df = pd.read_pickle(pickled_df_path)\n",
    "\n",
    "    satellites = df['Current Official Name of Satellite']\n",
    "\n",
    "    tuples = []\n",
    "    for i,satellite in enumerate(satellites):\n",
    "        un_registry_tuple = (satellite, 'unRregistry', df.loc[i]['Country/Org of UN Registry'])    \n",
    "        launch_site_tuple = ( satellite, 'launchsiteCountry',df.loc[i]['Launch site Country'])\n",
    "\n",
    "\n",
    "        operator = df.loc[i]['Country of Operator/Owner']\n",
    "\n",
    "\n",
    "        if ('/') in operator:\n",
    "            #print(str(i))\n",
    "            #print(\"split\")\n",
    "            #print(operator)\n",
    "            list_operator_countries = operator.split('/')\n",
    "            #print(list_operator_countries)\n",
    "            for country in list_operator_countries:\n",
    "                operator_tuple = (satellite, 'operatorCountry', country)\n",
    "                #print(operator_tuple)\n",
    "                tuples.append(operator_tuple)\n",
    "\n",
    "        if ('/') not in operator:\n",
    "            operator_tuple = (satellite, 'operatorCountry',df.loc[i]['Country of Operator/Owner'])\n",
    "            tuples.append(operator_tuple)\n",
    "\n",
    "        contractor = df.loc[i]['Country of Contractor']\n",
    "        #print(str(i))\n",
    "\n",
    "        if ('/') in contractor:\n",
    "            #print(\"split\")\n",
    "            #print(contractor)\n",
    "            list_contractor_countries = contractor.split('/')\n",
    "            #print(list_contractor_countries)\n",
    "            for country in list_contractor_countries:\n",
    "                contractor_tuple = (satellite, 'contractorCountry', country)\n",
    "                #print(contractor_tuple)\n",
    "                tuples.append(contractor_tuple)\n",
    "        if ('/') not in contractor: \n",
    "\n",
    "            contractor_tuple = (satellite, 'contractorCountry', df.loc[i]['Country of Contractor'])                                           \n",
    "            tuples.append(contractor_tuple)\n",
    "\n",
    "\n",
    "\n",
    "        tuples.append(un_registry_tuple)\n",
    "\n",
    "        tuples.append(launch_site_tuple)\n",
    "        \n",
    "    return tuples\n"
   ]
  },
  {
   "cell_type": "code",
   "execution_count": 4,
   "id": "732a5b71-9149-4587-951f-ffbbae8a5a05",
   "metadata": {},
   "outputs": [],
   "source": [
    "pickled_df_path = \"ucs_pickle.p\""
   ]
  },
  {
   "cell_type": "code",
   "execution_count": 5,
   "id": "68cc2cb6-17a7-4528-9791-28b622311ce3",
   "metadata": {},
   "outputs": [],
   "source": [
    "tuples = pd_to_triples(pickled_df_path)"
   ]
  },
  {
   "cell_type": "code",
   "execution_count": 6,
   "id": "9a7d5b96-12ce-438d-8418-420199ec09ee",
   "metadata": {},
   "outputs": [
    {
     "data": {
      "text/plain": [
       "18689"
      ]
     },
     "execution_count": 6,
     "metadata": {},
     "output_type": "execute_result"
    }
   ],
   "source": [
    "len(tuples)"
   ]
  },
  {
   "cell_type": "code",
   "execution_count": 7,
   "id": "9fea668e-dded-4967-99f4-8144f1753fce",
   "metadata": {},
   "outputs": [
    {
     "data": {
      "text/plain": [
       "[('AMC-2', 'launchsiteCountry', 'French Guiana'),\n",
       " ('AMC-21', 'operatorCountry', 'USA'),\n",
       " ('AMC-21', 'contractorCountry', 'USA'),\n",
       " ('AMC-21', 'unRregistry', 'United Kingdom'),\n",
       " ('AMC-21', 'launchsiteCountry', 'French Guiana'),\n",
       " ('AMC-4', 'operatorCountry', 'USA'),\n",
       " ('AMC-4', 'contractorCountry', 'USA'),\n",
       " ('AMC-4', 'unRregistry', 'USA'),\n",
       " ('AMC-4', 'launchsiteCountry', 'French Guiana'),\n",
       " ('AMC-6', 'operatorCountry', 'USA'),\n",
       " ('AMC-6', 'contractorCountry', 'USA'),\n",
       " ('AMC-6', 'unRregistry', 'USA'),\n",
       " ('AMC-6', 'launchsiteCountry', 'Kazakhstan'),\n",
       " ('AMC-8', 'operatorCountry', 'USA'),\n",
       " ('AMC-8', 'contractorCountry', 'USA'),\n",
       " ('AMC-8', 'unRregistry', 'USA'),\n",
       " ('AMC-8', 'launchsiteCountry', 'French Guiana'),\n",
       " ('AmGU-1', 'operatorCountry', 'Russia'),\n",
       " ('AmGU-1', 'contractorCountry', 'Russia'),\n",
       " ('AmGU-1', 'unRregistry', 'Russia'),\n",
       " ('AmGU-1', 'launchsiteCountry', 'Kazakhstan'),\n",
       " ('Amos 17', 'operatorCountry', 'Israel'),\n",
       " ('Amos 17', 'contractorCountry', 'USA'),\n",
       " ('Amos 17', 'unRregistry', 'NR'),\n",
       " ('Amos 17', 'launchsiteCountry', 'USA'),\n",
       " ('Amos 3', 'operatorCountry', 'Israel'),\n",
       " ('Amos 3', 'contractorCountry', 'Israel'),\n",
       " ('Amos 3', 'unRregistry', 'NR'),\n",
       " ('Amos 3', 'launchsiteCountry', 'Kazakhstan'),\n",
       " ('Amos 4', 'operatorCountry', 'Israel'),\n",
       " ('Amos 4', 'contractorCountry', 'Israel'),\n",
       " ('Amos 4', 'unRregistry', 'NR'),\n",
       " ('Amos 4', 'launchsiteCountry', 'Kazakhstan'),\n",
       " ('Amsat-Oscar 7', 'operatorCountry', 'USA'),\n",
       " ('Amsat-Oscar 7', 'contractorCountry', 'USA'),\n",
       " ('Amsat-Oscar 7', 'unRregistry', 'USA'),\n",
       " ('Amsat-Oscar 7', 'launchsiteCountry', 'USA'),\n",
       " ('ANASIS-II', 'operatorCountry', 'South Korea'),\n",
       " ('ANASIS-II', 'contractorCountry', 'France'),\n",
       " ('ANASIS-II', 'contractorCountry', 'UK'),\n",
       " ('ANASIS-II', 'contractorCountry', 'Germany'),\n",
       " ('ANASIS-II', 'contractorCountry', 'Spain'),\n",
       " ('ANASIS-II', 'unRregistry', 'NR (12/20)'),\n",
       " ('ANASIS-II', 'launchsiteCountry', 'USA'),\n",
       " ('ANDESITE Mule', 'operatorCountry', 'USA'),\n",
       " ('ANDESITE Mule', 'contractorCountry', 'USA'),\n",
       " ('ANDESITE Mule', 'unRregistry', 'USA'),\n",
       " ('ANDESITE Mule', 'launchsiteCountry', 'New Zealand'),\n",
       " ('ANGELS', 'operatorCountry', 'ESA'),\n",
       " ('ANGELS', 'contractorCountry', 'ESA'),\n",
       " ('ANGELS', 'unRregistry', 'France'),\n",
       " ('ANGELS', 'launchsiteCountry', 'French Guiana'),\n",
       " ('Anik F1', 'operatorCountry', 'Canada'),\n",
       " ('Anik F1', 'contractorCountry', 'USA'),\n",
       " ('Anik F1', 'unRregistry', 'Canada'),\n",
       " ('Anik F1', 'launchsiteCountry', 'French Guiana'),\n",
       " ('Anik F1R', 'operatorCountry', 'Canada'),\n",
       " ('Anik F1R', 'contractorCountry', 'France'),\n",
       " ('Anik F1R', 'contractorCountry', 'UK'),\n",
       " ('Anik F1R', 'contractorCountry', 'Germany'),\n",
       " ('Anik F1R', 'contractorCountry', 'Spain'),\n",
       " ('Anik F1R', 'unRregistry', 'Canada'),\n",
       " ('Anik F1R', 'launchsiteCountry', 'Kazakhstan'),\n",
       " ('Anik F2', 'operatorCountry', 'Canada'),\n",
       " ('Anik F2', 'contractorCountry', 'USA'),\n",
       " ('Anik F2', 'unRregistry', 'Canada'),\n",
       " ('Anik F2', 'launchsiteCountry', 'French Guiana'),\n",
       " ('Anik F3', 'operatorCountry', 'Canada'),\n",
       " ('Anik F3', 'contractorCountry', 'France'),\n",
       " ('Anik F3', 'contractorCountry', 'UK'),\n",
       " ('Anik F3', 'contractorCountry', 'Germany'),\n",
       " ('Anik F3', 'contractorCountry', 'Spain'),\n",
       " ('Anik F3', 'unRregistry', 'Canada'),\n",
       " ('Anik F3', 'launchsiteCountry', 'Kazakhstan'),\n",
       " ('Anik G1', 'operatorCountry', 'Canada'),\n",
       " ('Anik G1', 'contractorCountry', 'USA'),\n",
       " ('Anik G1', 'unRregistry', 'NR'),\n",
       " ('Anik G1', 'launchsiteCountry', 'Kazakhstan'),\n",
       " ('AprizeSat 1', 'operatorCountry', 'Argentina'),\n",
       " ('AprizeSat 1', 'contractorCountry', 'Argentina'),\n",
       " ('AprizeSat 1', 'unRregistry', 'USA'),\n",
       " ('AprizeSat 1', 'launchsiteCountry', 'Kazakhstan'),\n",
       " ('AprizeSat 10', 'operatorCountry', 'USA'),\n",
       " ('AprizeSat 10', 'operatorCountry', 'Argentina'),\n",
       " ('AprizeSat 10', 'contractorCountry', 'USA'),\n",
       " ('AprizeSat 10', 'unRregistry', 'NR'),\n",
       " ('AprizeSat 10', 'launchsiteCountry', 'Russia'),\n",
       " ('AprizeSat 2', 'operatorCountry', 'Argentina'),\n",
       " ('AprizeSat 2', 'contractorCountry', 'Argentina'),\n",
       " ('AprizeSat 2', 'unRregistry', 'USA'),\n",
       " ('AprizeSat 2', 'launchsiteCountry', 'Kazakhstan'),\n",
       " ('AprizeSat 3', 'operatorCountry', 'USA'),\n",
       " ('AprizeSat 3', 'operatorCountry', 'Argentina'),\n",
       " ('AprizeSat 3', 'contractorCountry', 'USA'),\n",
       " ('AprizeSat 3', 'unRregistry', 'USA'),\n",
       " ('AprizeSat 3', 'launchsiteCountry', 'Kazakhstan'),\n",
       " ('AprizeSat 4', 'operatorCountry', 'USA'),\n",
       " ('AprizeSat 4', 'operatorCountry', 'Argentina'),\n",
       " ('AprizeSat 4', 'contractorCountry', 'USA'),\n",
       " ('AprizeSat 4', 'unRregistry', 'USA')]"
      ]
     },
     "execution_count": 7,
     "metadata": {},
     "output_type": "execute_result"
    }
   ],
   "source": [
    "tuples[300:400]"
   ]
  },
  {
   "cell_type": "code",
   "execution_count": null,
   "id": "3a6cf627-e146-46ae-ab5c-0e52bd0af9dd",
   "metadata": {},
   "outputs": [],
   "source": []
  }
 ],
 "metadata": {
  "kernelspec": {
   "display_name": "Python 3",
   "language": "python",
   "name": "python3"
  },
  "language_info": {
   "codemirror_mode": {
    "name": "ipython",
    "version": 3
   },
   "file_extension": ".py",
   "mimetype": "text/x-python",
   "name": "python",
   "nbconvert_exporter": "python",
   "pygments_lexer": "ipython3",
   "version": "3.7.10"
  }
 },
 "nbformat": 4,
 "nbformat_minor": 5
}
