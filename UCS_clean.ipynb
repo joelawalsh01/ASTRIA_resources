{
 "cells": [
  {
   "cell_type": "code",
   "execution_count": 1,
   "id": "9481ce5e-d406-4642-9034-8efe7bb488c5",
   "metadata": {},
   "outputs": [],
   "source": [
    "import csv\n",
    "import pandas as pd"
   ]
  },
  {
   "cell_type": "code",
   "execution_count": 2,
   "id": "e5d98b7f-cded-44e3-8638-e2ade11df99a",
   "metadata": {},
   "outputs": [],
   "source": [
    "file_path = 'ucs_data.csv'"
   ]
  },
  {
   "cell_type": "code",
   "execution_count": 3,
   "id": "99e027cd-4e95-49df-8389-73a6e005ee4a",
   "metadata": {},
   "outputs": [],
   "source": [
    "df = pd.read_csv(file_path) "
   ]
  },
  {
   "cell_type": "code",
   "execution_count": 4,
   "id": "ffe6e4f3-a9dd-4ead-92e2-b3fd90224364",
   "metadata": {},
   "outputs": [
    {
     "data": {
      "text/html": [
       "<div>\n",
       "<style scoped>\n",
       "    .dataframe tbody tr th:only-of-type {\n",
       "        vertical-align: middle;\n",
       "    }\n",
       "\n",
       "    .dataframe tbody tr th {\n",
       "        vertical-align: top;\n",
       "    }\n",
       "\n",
       "    .dataframe thead th {\n",
       "        text-align: right;\n",
       "    }\n",
       "</style>\n",
       "<table border=\"1\" class=\"dataframe\">\n",
       "  <thead>\n",
       "    <tr style=\"text-align: right;\">\n",
       "      <th></th>\n",
       "      <th>Name of Satellite, Alternate Names</th>\n",
       "      <th>Current Official Name of Satellite</th>\n",
       "      <th>Country/Org of UN Registry</th>\n",
       "      <th>Country of Operator/Owner</th>\n",
       "      <th>Operator/Owner</th>\n",
       "      <th>Users</th>\n",
       "      <th>Purpose</th>\n",
       "      <th>Detailed Purpose</th>\n",
       "      <th>Class of Orbit</th>\n",
       "      <th>Type of Orbit</th>\n",
       "      <th>...</th>\n",
       "      <th>Unnamed: 57</th>\n",
       "      <th>Unnamed: 58</th>\n",
       "      <th>Unnamed: 59</th>\n",
       "      <th>Unnamed: 60</th>\n",
       "      <th>Unnamed: 61</th>\n",
       "      <th>Unnamed: 62</th>\n",
       "      <th>Unnamed: 63</th>\n",
       "      <th>Unnamed: 64</th>\n",
       "      <th>Unnamed: 65</th>\n",
       "      <th>Unnamed: 66</th>\n",
       "    </tr>\n",
       "  </thead>\n",
       "  <tbody>\n",
       "    <tr>\n",
       "      <th>0</th>\n",
       "      <td>1HOPSAT-TD (1st-generation High Optical Perfor...</td>\n",
       "      <td>Lemur</td>\n",
       "      <td>NR (12/20)</td>\n",
       "      <td>USA</td>\n",
       "      <td>Hera Systems</td>\n",
       "      <td>Commercial</td>\n",
       "      <td>Earth Observation</td>\n",
       "      <td>Infrared Imaging</td>\n",
       "      <td>LEO</td>\n",
       "      <td>Non-Polar Inclined</td>\n",
       "      <td>...</td>\n",
       "      <td>NaN</td>\n",
       "      <td>NaN</td>\n",
       "      <td>NaN</td>\n",
       "      <td>NaN</td>\n",
       "      <td>NaN</td>\n",
       "      <td>NaN</td>\n",
       "      <td>NaN</td>\n",
       "      <td>NaN</td>\n",
       "      <td>NaN</td>\n",
       "      <td>NaN</td>\n",
       "    </tr>\n",
       "    <tr>\n",
       "      <th>1</th>\n",
       "      <td>Aalto-1</td>\n",
       "      <td>Aalto-1</td>\n",
       "      <td>Finland</td>\n",
       "      <td>Finland</td>\n",
       "      <td>Aalto University</td>\n",
       "      <td>Civil</td>\n",
       "      <td>Technology Development</td>\n",
       "      <td>NaN</td>\n",
       "      <td>LEO</td>\n",
       "      <td>NaN</td>\n",
       "      <td>...</td>\n",
       "      <td>NaN</td>\n",
       "      <td>NaN</td>\n",
       "      <td>NaN</td>\n",
       "      <td>NaN</td>\n",
       "      <td>NaN</td>\n",
       "      <td>NaN</td>\n",
       "      <td>NaN</td>\n",
       "      <td>NaN</td>\n",
       "      <td>NaN</td>\n",
       "      <td>NaN</td>\n",
       "    </tr>\n",
       "    <tr>\n",
       "      <th>2</th>\n",
       "      <td>AAUSat-4</td>\n",
       "      <td>AAUSat-4</td>\n",
       "      <td>Denmark</td>\n",
       "      <td>Denmark</td>\n",
       "      <td>University of Aalborg</td>\n",
       "      <td>Civil</td>\n",
       "      <td>Earth Observation</td>\n",
       "      <td>Automatic Identification System (AIS)</td>\n",
       "      <td>LEO</td>\n",
       "      <td>Sun-Synchronous</td>\n",
       "      <td>...</td>\n",
       "      <td>NaN</td>\n",
       "      <td>NaN</td>\n",
       "      <td>NaN</td>\n",
       "      <td>NaN</td>\n",
       "      <td>NaN</td>\n",
       "      <td>NaN</td>\n",
       "      <td>NaN</td>\n",
       "      <td>NaN</td>\n",
       "      <td>NaN</td>\n",
       "      <td>NaN</td>\n",
       "    </tr>\n",
       "    <tr>\n",
       "      <th>3</th>\n",
       "      <td>ABS-2 (Koreasat-8, ST-3)</td>\n",
       "      <td>ABS-2</td>\n",
       "      <td>NR</td>\n",
       "      <td>Multinational</td>\n",
       "      <td>Asia Broadcast Satellite Ltd.</td>\n",
       "      <td>Commercial</td>\n",
       "      <td>Communications</td>\n",
       "      <td>NaN</td>\n",
       "      <td>GEO</td>\n",
       "      <td>NaN</td>\n",
       "      <td>...</td>\n",
       "      <td>NaN</td>\n",
       "      <td>NaN</td>\n",
       "      <td>NaN</td>\n",
       "      <td>NaN</td>\n",
       "      <td>NaN</td>\n",
       "      <td>NaN</td>\n",
       "      <td>NaN</td>\n",
       "      <td>NaN</td>\n",
       "      <td>NaN</td>\n",
       "      <td>NaN</td>\n",
       "    </tr>\n",
       "    <tr>\n",
       "      <th>4</th>\n",
       "      <td>ABS-2A</td>\n",
       "      <td>ABS-2A</td>\n",
       "      <td>NR</td>\n",
       "      <td>Multinational</td>\n",
       "      <td>Asia Broadcast Satellite Ltd.</td>\n",
       "      <td>Commercial</td>\n",
       "      <td>Communications</td>\n",
       "      <td>NaN</td>\n",
       "      <td>GEO</td>\n",
       "      <td>NaN</td>\n",
       "      <td>...</td>\n",
       "      <td>NaN</td>\n",
       "      <td>NaN</td>\n",
       "      <td>NaN</td>\n",
       "      <td>NaN</td>\n",
       "      <td>NaN</td>\n",
       "      <td>NaN</td>\n",
       "      <td>NaN</td>\n",
       "      <td>NaN</td>\n",
       "      <td>NaN</td>\n",
       "      <td>NaN</td>\n",
       "    </tr>\n",
       "  </tbody>\n",
       "</table>\n",
       "<p>5 rows × 67 columns</p>\n",
       "</div>"
      ],
      "text/plain": [
       "                  Name of Satellite, Alternate Names  \\\n",
       "0  1HOPSAT-TD (1st-generation High Optical Perfor...   \n",
       "1                                            Aalto-1   \n",
       "2                                           AAUSat-4   \n",
       "3                           ABS-2 (Koreasat-8, ST-3)   \n",
       "4                                             ABS-2A   \n",
       "\n",
       "  Current Official Name of Satellite Country/Org of UN Registry  \\\n",
       "0                              Lemur                 NR (12/20)   \n",
       "1                            Aalto-1                    Finland   \n",
       "2                           AAUSat-4                    Denmark   \n",
       "3                              ABS-2                         NR   \n",
       "4                             ABS-2A                         NR   \n",
       "\n",
       "  Country of Operator/Owner                 Operator/Owner       Users  \\\n",
       "0                       USA                   Hera Systems  Commercial   \n",
       "1                   Finland               Aalto University       Civil   \n",
       "2                   Denmark          University of Aalborg       Civil   \n",
       "3             Multinational  Asia Broadcast Satellite Ltd.  Commercial   \n",
       "4             Multinational  Asia Broadcast Satellite Ltd.  Commercial   \n",
       "\n",
       "                  Purpose                       Detailed Purpose  \\\n",
       "0       Earth Observation                       Infrared Imaging   \n",
       "1  Technology Development                                    NaN   \n",
       "2       Earth Observation  Automatic Identification System (AIS)   \n",
       "3          Communications                                    NaN   \n",
       "4          Communications                                    NaN   \n",
       "\n",
       "  Class of Orbit       Type of Orbit  ... Unnamed: 57 Unnamed: 58 Unnamed: 59  \\\n",
       "0            LEO  Non-Polar Inclined  ...         NaN         NaN         NaN   \n",
       "1            LEO                 NaN  ...         NaN         NaN         NaN   \n",
       "2            LEO     Sun-Synchronous  ...         NaN         NaN         NaN   \n",
       "3            GEO                 NaN  ...         NaN         NaN         NaN   \n",
       "4            GEO                 NaN  ...         NaN         NaN         NaN   \n",
       "\n",
       "   Unnamed: 60  Unnamed: 61  Unnamed: 62 Unnamed: 63 Unnamed: 64 Unnamed: 65  \\\n",
       "0          NaN          NaN          NaN         NaN         NaN         NaN   \n",
       "1          NaN          NaN          NaN         NaN         NaN         NaN   \n",
       "2          NaN          NaN          NaN         NaN         NaN         NaN   \n",
       "3          NaN          NaN          NaN         NaN         NaN         NaN   \n",
       "4          NaN          NaN          NaN         NaN         NaN         NaN   \n",
       "\n",
       "  Unnamed: 66  \n",
       "0         NaN  \n",
       "1         NaN  \n",
       "2         NaN  \n",
       "3         NaN  \n",
       "4         NaN  \n",
       "\n",
       "[5 rows x 67 columns]"
      ]
     },
     "execution_count": 4,
     "metadata": {},
     "output_type": "execute_result"
    }
   ],
   "source": [
    "df.head()"
   ]
  },
  {
   "cell_type": "code",
   "execution_count": 5,
   "id": "09615bdb-ac9f-44ea-b898-b94a36fdd5a6",
   "metadata": {},
   "outputs": [],
   "source": [
    "for i,country in enumerate(df['Country of Contractor']):\n",
    "    if type(country) is 'float':\n",
    "        print('blank')\n",
    "        df.at[i,'Country of Contractor'] = \"Unknown\"\n"
   ]
  },
  {
   "cell_type": "code",
   "execution_count": 6,
   "id": "a2fd17c0-03fa-476c-bb51-495b6332ac12",
   "metadata": {},
   "outputs": [],
   "source": [
    "for country in enumerate(df['Country of Operator/Owner']):\n",
    "    if type(country) is 'float':\n",
    "        df.at[i,'Country of Operator/Owner'] = \"Unknown\""
   ]
  },
  {
   "cell_type": "code",
   "execution_count": 7,
   "id": "9e551e29-225d-4a59-82ed-23fe9f89acf3",
   "metadata": {},
   "outputs": [],
   "source": [
    "sites = df['Launch Site']"
   ]
  },
  {
   "cell_type": "code",
   "execution_count": 8,
   "id": "9fbab467-d8b9-42b0-a632-94cb8ac42c40",
   "metadata": {},
   "outputs": [],
   "source": [
    "sites_counts = df['Launch Site'].value_counts()"
   ]
  },
  {
   "cell_type": "code",
   "execution_count": 9,
   "id": "8c35602e-4e9d-47ba-afcf-1577d8e01c2b",
   "metadata": {},
   "outputs": [
    {
     "data": {
      "text/plain": [
       "Cape Canaveral                           2131\n",
       "Baikonur Cosmodrome                       381\n",
       "Guiana Space Center                       349\n",
       "Satish Dhawan Space Centre                241\n",
       "Vostochny Cosmodrome                      237\n",
       "Vandenberg AFB                            232\n",
       "Jiuquan Satellite Launch Center           175\n",
       "Taiyuan Launch Center                     153\n",
       "Xichang Satellite Launch Center           148\n",
       "Plesetsk Cosmodrome                       130\n",
       "Rocket Lab Launch Complex 1                82\n",
       "Tanegashima Space Center                   38\n",
       "Dombarovsky Air Base                       37\n",
       "Wallops Island Flight Facility             37\n",
       "International Space Station                31\n",
       "Sea Launch Odyssey                         25\n",
       "Cygnus                                     22\n",
       "Yellow Sea Launch Platform                 16\n",
       "Satish Dhawan                              12\n",
       "International Space Station - Cygnus       12\n",
       "Orbital ATK L-1011                          8\n",
       "Uchinoura Space Center                      8\n",
       "Virgin Orbit                                7\n",
       "Wenchang Space Center                       6\n",
       "Palmachim Launch Complex                    6\n",
       "FANTM-RAiL [Xtenti]                         5\n",
       "Kodiak Launch Complex                       3\n",
       "Wenchang Satellite Launch Center            3\n",
       "FANTM-RAiL (Xtenti)                         3\n",
       "International Space Station - Antares       2\n",
       "Svobodny Cosmodrome                         2\n",
       "Kwajalein Island                            2\n",
       "Stargazer L-1011                            1\n",
       "Dragon CRS-17                               1\n",
       "Shahroud Missile Base                       1\n",
       "Antares                                     1\n",
       "Naro Space Center                           1\n",
       "Name: Launch Site, dtype: int64"
      ]
     },
     "execution_count": 9,
     "metadata": {},
     "output_type": "execute_result"
    }
   ],
   "source": [
    "sites_counts"
   ]
  },
  {
   "cell_type": "code",
   "execution_count": 10,
   "id": "949b4867-2cb9-413d-b1c6-6061a52bd4a7",
   "metadata": {},
   "outputs": [
    {
     "data": {
      "text/plain": [
       "pandas.core.series.Series"
      ]
     },
     "execution_count": 10,
     "metadata": {},
     "output_type": "execute_result"
    }
   ],
   "source": [
    "type(sites_counts)"
   ]
  },
  {
   "cell_type": "code",
   "execution_count": 11,
   "id": "24a0eeed-f1d1-429b-883b-79ec59b67a19",
   "metadata": {},
   "outputs": [],
   "source": [
    "list_sites = sites_counts.index.tolist()"
   ]
  },
  {
   "cell_type": "code",
   "execution_count": 12,
   "id": "34632e20-672d-4fd7-af52-e4e8791e55d9",
   "metadata": {},
   "outputs": [],
   "source": [
    "list_countries = ['USA', 'Kazakhstan', 'French Guiana', 'India', 'Kazakhstan','USA', 'China', 'China','China','Russia', 'New Zealand', 'Japan','Russia', 'USA', 'International', 'International', 'USA', 'China',  'India', 'USA', 'USA', 'Japan', 'USA', 'China', 'Israel', 'USA', 'USA', 'China', 'USA', 'USA', 'Russia', 'Marshall Islands', 'USA', 'USA','Iran', 'USA', 'South Korea'] "
   ]
  },
  {
   "cell_type": "code",
   "execution_count": 13,
   "id": "25bb7078-79e3-4892-8998-5ea5747290e1",
   "metadata": {},
   "outputs": [],
   "source": [
    "dict_sites = dict(zip(list_sites, list_countries))"
   ]
  },
  {
   "cell_type": "code",
   "execution_count": 14,
   "id": "932ec5bd-0637-459e-abf1-a4d4ce235fe7",
   "metadata": {
    "scrolled": true,
    "tags": []
   },
   "outputs": [
    {
     "data": {
      "text/plain": [
       "{'Cape Canaveral': 'USA',\n",
       " 'Baikonur Cosmodrome': 'Kazakhstan',\n",
       " 'Guiana Space Center': 'French Guiana',\n",
       " 'Satish Dhawan Space Centre': 'India',\n",
       " 'Vostochny Cosmodrome': 'Kazakhstan',\n",
       " 'Vandenberg AFB': 'USA',\n",
       " 'Jiuquan Satellite Launch Center': 'China',\n",
       " 'Taiyuan Launch Center': 'China',\n",
       " 'Xichang Satellite Launch Center': 'China',\n",
       " 'Plesetsk Cosmodrome': 'Russia',\n",
       " 'Rocket Lab Launch Complex 1': 'New Zealand',\n",
       " 'Tanegashima Space Center': 'Japan',\n",
       " 'Dombarovsky Air Base': 'Russia',\n",
       " 'Wallops Island Flight Facility': 'USA',\n",
       " 'International Space Station': 'International',\n",
       " 'Sea Launch Odyssey': 'International',\n",
       " 'Cygnus': 'USA',\n",
       " 'Yellow Sea Launch Platform': 'China',\n",
       " 'Satish Dhawan': 'India',\n",
       " 'International Space Station - Cygnus': 'USA',\n",
       " 'Orbital ATK L-1011': 'USA',\n",
       " 'Uchinoura Space Center': 'Japan',\n",
       " 'Virgin Orbit': 'USA',\n",
       " 'Wenchang Space Center': 'China',\n",
       " 'Palmachim Launch Complex ': 'Israel',\n",
       " 'FANTM-RAiL [Xtenti]': 'USA',\n",
       " 'Kodiak Launch Complex': 'USA',\n",
       " 'Wenchang Satellite Launch Center': 'China',\n",
       " 'FANTM-RAiL (Xtenti)': 'USA',\n",
       " 'International Space Station - Antares': 'USA',\n",
       " 'Svobodny Cosmodrome': 'Russia',\n",
       " 'Kwajalein Island': 'Marshall Islands',\n",
       " 'Stargazer L-1011': 'USA',\n",
       " 'Dragon CRS-17': 'USA',\n",
       " 'Shahroud Missile Base': 'Iran',\n",
       " 'Antares': 'USA',\n",
       " 'Naro Space Center': 'South Korea'}"
      ]
     },
     "execution_count": 14,
     "metadata": {},
     "output_type": "execute_result"
    }
   ],
   "source": [
    "dict_sites"
   ]
  },
  {
   "cell_type": "code",
   "execution_count": 15,
   "id": "43245062-c005-4f6a-acde-261306ccc1ec",
   "metadata": {},
   "outputs": [
    {
     "data": {
      "text/plain": [
       "'USA'"
      ]
     },
     "execution_count": 15,
     "metadata": {},
     "output_type": "execute_result"
    }
   ],
   "source": [
    "dict_sites['Cape Canaveral']"
   ]
  },
  {
   "cell_type": "code",
   "execution_count": 16,
   "id": "0e13fc55-8861-421e-a8c0-b18bc23fbcee",
   "metadata": {},
   "outputs": [],
   "source": [
    "df['Launch site Country'] = \" \" "
   ]
  },
  {
   "cell_type": "code",
   "execution_count": null,
   "id": "fa20861e-ae48-41c1-b7ff-27309ea692ff",
   "metadata": {
    "scrolled": true,
    "tags": []
   },
   "outputs": [],
   "source": [
    "for i,site in enumerate(df['Launch Site']):\n",
    "    #print(type(site))\n",
    "    if type(site) == str:\n",
    "        site_country = dict_sites[site]\n",
    "        print(site)\n",
    "        print(site_country)\n",
    "        df.at[i, 'Launch site Country'] = site_country"
   ]
  },
  {
   "cell_type": "code",
   "execution_count": 18,
   "id": "37a6640c-f264-49ae-948e-68c845e1f052",
   "metadata": {},
   "outputs": [],
   "source": [
    "pd.to_pickle(df, \"ucs_pickle.p\")\n"
   ]
  },
  {
   "cell_type": "code",
   "execution_count": 19,
   "id": "d2fd89ae-d611-4e3f-bf3e-1174aa980783",
   "metadata": {},
   "outputs": [],
   "source": [
    "df.to_csv('ucs_cleaned.csv')"
   ]
  },
  {
   "cell_type": "code",
   "execution_count": null,
   "id": "982bea7d-cf39-44c1-84c0-031923006618",
   "metadata": {},
   "outputs": [],
   "source": []
  },
  {
   "cell_type": "code",
   "execution_count": null,
   "id": "abd076d7-3aa1-4fb6-a28f-6f87c42736b6",
   "metadata": {},
   "outputs": [],
   "source": []
  }
 ],
 "metadata": {
  "kernelspec": {
   "display_name": "Python 3 (ipykernel)",
   "language": "python",
   "name": "python3"
  },
  "language_info": {
   "codemirror_mode": {
    "name": "ipython",
    "version": 3
   },
   "file_extension": ".py",
   "mimetype": "text/x-python",
   "name": "python",
   "nbconvert_exporter": "python",
   "pygments_lexer": "ipython3",
   "version": "3.7.11"
  }
 },
 "nbformat": 4,
 "nbformat_minor": 5
}
