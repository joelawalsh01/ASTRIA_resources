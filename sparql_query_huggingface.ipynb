{
 "cells": [
  {
   "cell_type": "code",
   "execution_count": 1,
   "metadata": {
    "collapsed": true
   },
   "outputs": [],
   "source": [
    "from SPARQLWrapper import SPARQLWrapper, JSON\n",
    "import pandas as pd\n",
    "from collections import Counter\n",
    "#import pywikibot\n",
    "from transformers import pipeline\n",
    "from transformers import AutoTokenizer, AutoModelForTokenClassification\n",
    "from typing import List\n",
    "import re"
   ]
  },
  {
   "cell_type": "code",
   "execution_count": 2,
   "outputs": [],
   "source": [
    "# initialize tokenizer, model\n",
    "\n",
    "tokenizer = AutoTokenizer.from_pretrained(\"dslim/bert-base-NER\")\n",
    "\n",
    "NER_model = AutoModelForTokenClassification.from_pretrained(\"dslim/bert-base-NER\")\n",
    "\n",
    "# aggregation strategy: if left undefined, will default to breaking up some entities into subwords\n",
    "nlp = pipeline('ner',tokenizer = tokenizer,  model = NER_model, aggregation_strategy = \"max\" )"
   ],
   "metadata": {
    "collapsed": false,
    "pycharm": {
     "name": "#%%\n"
    }
   }
  },
  {
   "cell_type": "code",
   "execution_count": 57,
   "outputs": [],
   "source": [
    "text = \"This is a sentence about spacewoman Adri and NASA and SpaceX and the German Aerospace Center.\"\n",
    "entities = nlp(text)"
   ],
   "metadata": {
    "collapsed": false,
    "pycharm": {
     "name": "#%%\n"
    }
   }
  },
  {
   "cell_type": "code",
   "execution_count": 58,
   "outputs": [
    {
     "data": {
      "text/plain": "[{'entity_group': 'PER',\n  'score': 0.9989241,\n  'word': 'Adri',\n  'start': 36,\n  'end': 40},\n {'entity_group': 'ORG',\n  'score': 0.9992776,\n  'word': 'NASA',\n  'start': 45,\n  'end': 49},\n {'entity_group': 'ORG',\n  'score': 0.99895793,\n  'word': 'SpaceX',\n  'start': 54,\n  'end': 60},\n {'entity_group': 'ORG',\n  'score': 0.99821335,\n  'word': 'German Aerospace Center',\n  'start': 69,\n  'end': 92}]"
     },
     "execution_count": 58,
     "metadata": {},
     "output_type": "execute_result"
    }
   ],
   "source": [
    "entities"
   ],
   "metadata": {
    "collapsed": false,
    "pycharm": {
     "name": "#%%\n"
    }
   }
  },
  {
   "cell_type": "code",
   "execution_count": 36,
   "outputs": [
    {
     "data": {
      "text/plain": "str"
     },
     "execution_count": 36,
     "metadata": {},
     "output_type": "execute_result"
    }
   ],
   "source": [
    "type(entities[0]['entity_group'])"
   ],
   "metadata": {
    "collapsed": false,
    "pycharm": {
     "name": "#%%\n"
    }
   }
  },
  {
   "cell_type": "code",
   "execution_count": 59,
   "outputs": [],
   "source": [
    "def extract_id_entity(entities: List[dict]) -> List[(tuple)]:\n",
    "    \"\"\"\n",
    "    :param entities: List of dictionaries that contain one dict for each entitiy\n",
    "    :return: List of ( 'Name', 'wiki id') tuples, for the tuples that exist\n",
    "    \"\"\"\n",
    "\n",
    "    q_ids = []\n",
    "    sparql = SPARQLWrapper(\"https://query.wikidata.org/sparql\", agent='Mozilla/5.0 (Macintosh; Intel Mac OS X 10_11_5) AppleWebKit/537.36 (KHTML, like Gecko) Chrome/50.0.2661.102 Safari/537.36')\n",
    "    for ent in entities:\n",
    "        entity_group = ent['entity_group']\n",
    "        if entity_group == 'ORG':\n",
    "            new_query = \"SELECT ?item WHERE {?item rdfs:label \" + \"'\" + str(entity_group) + \"'\" +  \"@en}\"\n",
    "\n",
    "            sparql.setQuery( new_query)\n",
    "            sparql.setReturnFormat(JSON)\n",
    "            results = sparql.query().convert()\n",
    "            intermediate = results['results']['bindings']\n",
    "            if len(intermediate)>0:\n",
    "                #print(intermediate)\n",
    "                #print(\"length of intermediate is \" + str(len(intermediate)))\n",
    "\n",
    "                first_result = intermediate[0]\n",
    "                url = first_result['item']['value']\n",
    "                q_id = url[31:]\n",
    "\n",
    "                tuple = (ent['word'], q_id)\n",
    "            else:\n",
    "                raise ValueError( \" no Wikidata entry for the entity: \" + str(ent))\n",
    "\n",
    "            q_ids.append(tuple)\n",
    "\n",
    "    return q_ids\n",
    "\n"
   ],
   "metadata": {
    "collapsed": false,
    "pycharm": {
     "name": "#%%\n"
    }
   }
  },
  {
   "cell_type": "code",
   "execution_count": 60,
   "outputs": [],
   "source": [
    "ids = extract_id_entity(entities)"
   ],
   "metadata": {
    "collapsed": false,
    "pycharm": {
     "name": "#%%\n"
    }
   }
  },
  {
   "cell_type": "code",
   "execution_count": 61,
   "outputs": [
    {
     "data": {
      "text/plain": "[('NASA', 'Q448480'),\n ('SpaceX', 'Q448480'),\n ('German Aerospace Center', 'Q448480')]"
     },
     "execution_count": 61,
     "metadata": {},
     "output_type": "execute_result"
    }
   ],
   "source": [
    "ids"
   ],
   "metadata": {
    "collapsed": false,
    "pycharm": {
     "name": "#%%\n"
    }
   }
  },
  {
   "cell_type": "code",
   "execution_count": 62,
   "outputs": [],
   "source": [
    "def company_checker(ids: List[tuple]) -> List[dict] :\n",
    "    sparql = SPARQLWrapper(\"https://query.wikidata.org/sparql\", agent='Mozilla/5.0 (Macintosh; Intel Mac OS X 10_11_5) AppleWebKit/537.36 (KHTML, like Gecko) Chrome/50.0.2661.102 Safari/537.36')\n",
    "\n",
    "\n",
    "    sparql.setQuery(\"\"\"\n",
    "    SELECT\n",
    "    ?company ?companyLabel ?countryLabel\n",
    "\n",
    "    WHERE\n",
    "    {\n",
    "    ?article schema:inLanguage \"en\" .\n",
    "    ?article schema:isPartOf <https://en.wikipedia.org/>.\n",
    "    ?article schema:about ?company .\n",
    "\n",
    "    ?company p:P31/ps:P31/wdt:P279* wd:Q11753232.\n",
    "\n",
    "    OPTIONAL {?company wdt:P17 ?country.}\n",
    "\n",
    "    SERVICE wikibase:label { bd:serviceParam wikibase:language \"en\". }\n",
    "    }\n",
    "\n",
    "    \"\"\")\n",
    "    sparql.setReturnFormat(JSON)\n",
    "    companies = sparql.query().convert()\n",
    "    results_comp = companies['results']['bindings']\n",
    "\n",
    "    country_labels = []\n",
    "\n",
    "    for id in ids:\n",
    "        for result in results_comp:\n",
    "            #print(type(id))\n",
    "\n",
    "\n",
    "            name = result['companyLabel']['value']\n",
    "\n",
    "            #print(type(id_name_str))\n",
    "            #print(type(id_name))\n",
    "            print(\"ids: \" + id[0] + \" name: \" +  name)\n",
    "\n",
    "\n",
    "            if id[0] == name:\n",
    "                print('success')\n",
    "                org_label = result['companyLabel']['value']\n",
    "                #print(\"company label is \" + company_label)\n",
    "\n",
    "                if 'countryLabel' in result.keys():\n",
    "                    country_label = result['countryLabel']['value']\n",
    "\n",
    "                else:\n",
    "                    country_label = 'Not in Wikidata'\n",
    "                #company_label = 'not a company'\n",
    "                #country_label = 'not a company'\n",
    "\n",
    "                tuple = (org_label,country_label)\n",
    "                country_labels.append(tuple)\n",
    "            else:\n",
    "                continue\n",
    "    return country_labels\n"
   ],
   "metadata": {
    "collapsed": false,
    "pycharm": {
     "name": "#%%\n"
    }
   }
  },
  {
   "cell_type": "code",
   "execution_count": 63,
   "outputs": [
    {
     "name": "stdout",
     "output_type": "stream",
     "text": [
      "ids: NASA name: Rocket Lab\n",
      "ids: NASA name: SpaceX\n",
      "ids: NASA name: Arianespace\n",
      "ids: NASA name: ISC Kosmotras\n",
      "ids: NASA name: Starsem\n",
      "ids: NASA name: Mitsubishi Heavy Industries\n",
      "ids: NASA name: Sea Launch\n",
      "ids: NASA name: Convair\n",
      "ids: NASA name: Blue Origin\n",
      "ids: NASA name: Orbital Sciences Corporation\n",
      "ids: NASA name: United Launch Alliance\n",
      "ids: NASA name: International Launch Services\n",
      "ids: NASA name: Eurockot Launch Services\n",
      "ids: NASA name: Antrix Corporation\n",
      "ids: NASA name: COSMOS International\n",
      "ids: NASA name: China Aerospace Science and Industry Corporation\n",
      "ids: NASA name: Firefly Aerospace\n",
      "ids: NASA name: Generation Orbit Launch Services\n",
      "ids: NASA name: Astra, Inc.\n",
      "ids: NASA name: Northrop Grumman Innovation Systems\n",
      "ids: NASA name: PLD Space\n",
      "ids: NASA name: Vector Space Systems\n",
      "ids: NASA name: Virgin Orbit\n",
      "ids: NASA name: LandSpace\n",
      "ids: NASA name: LinkSpace\n",
      "ids: NASA name: SpinLaunch\n",
      "ids: NASA name: Skyrora\n",
      "ids: NASA name: OneSpace\n",
      "ids: NASA name: Alba Orbital\n",
      "ids: NASA name: Skyroot Aerospace\n",
      "ids: SpaceX name: Rocket Lab\n",
      "ids: SpaceX name: SpaceX\n",
      "success\n",
      "ids: SpaceX name: Arianespace\n",
      "ids: SpaceX name: ISC Kosmotras\n",
      "ids: SpaceX name: Starsem\n",
      "ids: SpaceX name: Mitsubishi Heavy Industries\n",
      "ids: SpaceX name: Sea Launch\n",
      "ids: SpaceX name: Convair\n",
      "ids: SpaceX name: Blue Origin\n",
      "ids: SpaceX name: Orbital Sciences Corporation\n",
      "ids: SpaceX name: United Launch Alliance\n",
      "ids: SpaceX name: International Launch Services\n",
      "ids: SpaceX name: Eurockot Launch Services\n",
      "ids: SpaceX name: Antrix Corporation\n",
      "ids: SpaceX name: COSMOS International\n",
      "ids: SpaceX name: China Aerospace Science and Industry Corporation\n",
      "ids: SpaceX name: Firefly Aerospace\n",
      "ids: SpaceX name: Generation Orbit Launch Services\n",
      "ids: SpaceX name: Astra, Inc.\n",
      "ids: SpaceX name: Northrop Grumman Innovation Systems\n",
      "ids: SpaceX name: PLD Space\n",
      "ids: SpaceX name: Vector Space Systems\n",
      "ids: SpaceX name: Virgin Orbit\n",
      "ids: SpaceX name: LandSpace\n",
      "ids: SpaceX name: LinkSpace\n",
      "ids: SpaceX name: SpinLaunch\n",
      "ids: SpaceX name: Skyrora\n",
      "ids: SpaceX name: OneSpace\n",
      "ids: SpaceX name: Alba Orbital\n",
      "ids: SpaceX name: Skyroot Aerospace\n",
      "ids: German Aerospace Center name: Rocket Lab\n",
      "ids: German Aerospace Center name: SpaceX\n",
      "ids: German Aerospace Center name: Arianespace\n",
      "ids: German Aerospace Center name: ISC Kosmotras\n",
      "ids: German Aerospace Center name: Starsem\n",
      "ids: German Aerospace Center name: Mitsubishi Heavy Industries\n",
      "ids: German Aerospace Center name: Sea Launch\n",
      "ids: German Aerospace Center name: Convair\n",
      "ids: German Aerospace Center name: Blue Origin\n",
      "ids: German Aerospace Center name: Orbital Sciences Corporation\n",
      "ids: German Aerospace Center name: United Launch Alliance\n",
      "ids: German Aerospace Center name: International Launch Services\n",
      "ids: German Aerospace Center name: Eurockot Launch Services\n",
      "ids: German Aerospace Center name: Antrix Corporation\n",
      "ids: German Aerospace Center name: COSMOS International\n",
      "ids: German Aerospace Center name: China Aerospace Science and Industry Corporation\n",
      "ids: German Aerospace Center name: Firefly Aerospace\n",
      "ids: German Aerospace Center name: Generation Orbit Launch Services\n",
      "ids: German Aerospace Center name: Astra, Inc.\n",
      "ids: German Aerospace Center name: Northrop Grumman Innovation Systems\n",
      "ids: German Aerospace Center name: PLD Space\n",
      "ids: German Aerospace Center name: Vector Space Systems\n",
      "ids: German Aerospace Center name: Virgin Orbit\n",
      "ids: German Aerospace Center name: LandSpace\n",
      "ids: German Aerospace Center name: LinkSpace\n",
      "ids: German Aerospace Center name: SpinLaunch\n",
      "ids: German Aerospace Center name: Skyrora\n",
      "ids: German Aerospace Center name: OneSpace\n",
      "ids: German Aerospace Center name: Alba Orbital\n",
      "ids: German Aerospace Center name: Skyroot Aerospace\n"
     ]
    }
   ],
   "source": [
    "test = company_checker(ids)"
   ],
   "metadata": {
    "collapsed": false,
    "pycharm": {
     "name": "#%%\n"
    }
   }
  },
  {
   "cell_type": "code",
   "execution_count": 64,
   "outputs": [
    {
     "data": {
      "text/plain": "[('SpaceX', 'United States of America')]"
     },
     "execution_count": 64,
     "metadata": {},
     "output_type": "execute_result"
    }
   ],
   "source": [
    "test"
   ],
   "metadata": {
    "collapsed": false,
    "pycharm": {
     "name": "#%%\n"
    }
   }
  },
  {
   "cell_type": "code",
   "execution_count": null,
   "outputs": [],
   "source": [],
   "metadata": {
    "collapsed": false,
    "pycharm": {
     "name": "#%%\n"
    }
   }
  }
 ],
 "metadata": {
  "kernelspec": {
   "display_name": "Python 3",
   "language": "python",
   "name": "python3"
  },
  "language_info": {
   "codemirror_mode": {
    "name": "ipython",
    "version": 2
   },
   "file_extension": ".py",
   "mimetype": "text/x-python",
   "name": "python",
   "nbconvert_exporter": "python",
   "pygments_lexer": "ipython2",
   "version": "2.7.6"
  }
 },
 "nbformat": 4,
 "nbformat_minor": 0
}