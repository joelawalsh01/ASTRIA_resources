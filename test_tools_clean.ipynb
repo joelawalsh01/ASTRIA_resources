{
 "cells": [
  {
   "cell_type": "code",
   "execution_count": 40,
   "id": "752303de-f431-4887-9817-0f9f8a949682",
   "metadata": {},
   "outputs": [],
   "source": [
    "import pickle\n",
    "from tools_clean import *"
   ]
  },
  {
   "cell_type": "code",
   "execution_count": 41,
   "id": "e43678af-2e2c-42cc-becc-8a89e3af8f5f",
   "metadata": {},
   "outputs": [
    {
     "name": "stdout",
     "output_type": "stream",
     "text": [
      "South Korea\n"
     ]
    }
   ],
   "source": [
    "print(adj_to_country.get('Korean'))"
   ]
  },
  {
   "cell_type": "code",
   "execution_count": 42,
   "id": "661c7b8f-408e-40f3-a36b-be69d34236af",
   "metadata": {},
   "outputs": [
    {
     "name": "stdout",
     "output_type": "stream",
     "text": [
      "<class 'list'>\n",
      "138731\n"
     ]
    }
   ],
   "source": [
    "in_file_name = 'all_mentions.pkl'\n",
    "in_file_load = open(in_file_name, \"rb\" )\n",
    "in_file = pickle.load(in_file_load)\n",
    "print(type(in_file))\n",
    "print(len(in_file))\n",
    "out_file = open(''.join(in_file_name.split('.')[:-1]) + '_filtered.pkl', 'wb')"
   ]
  },
  {
   "cell_type": "code",
   "execution_count": 43,
   "id": "099205ea-69d2-4713-86bd-05833fafdcf2",
   "metadata": {},
   "outputs": [],
   "source": [
    "pickle.dump(filter_news(in_file), out_file)\n",
    "in_file_load.close()\n",
    "out_file.close()"
   ]
  }
 ],
 "metadata": {
  "kernelspec": {
   "display_name": "Python 3 (ipykernel)",
   "language": "python",
   "name": "python3"
  },
  "language_info": {
   "codemirror_mode": {
    "name": "ipython",
    "version": 3
   },
   "file_extension": ".py",
   "mimetype": "text/x-python",
   "name": "python",
   "nbconvert_exporter": "python",
   "pygments_lexer": "ipython3",
   "version": "3.9.7"
  }
 },
 "nbformat": 4,
 "nbformat_minor": 5
}
